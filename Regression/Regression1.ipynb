{
 "cells": [
  {
   "cell_type": "markdown",
   "id": "8efc6935-470d-4b3c-87d7-79c87a3e27ed",
   "metadata": {},
   "source": [
    "## Importing the library"
   ]
  },
  {
   "cell_type": "code",
   "execution_count": 1,
   "id": "46506ec5-5153-4165-a280-d0d19daa9f25",
   "metadata": {},
   "outputs": [],
   "source": [
    "import numpy as np\n",
    "import pandas as pd\n",
    "import matplotlib.pyplot as plt\n",
    "import seaborn as sns\n",
    "import statsmodels.api as sm"
   ]
  },
  {
   "cell_type": "markdown",
   "id": "cd309004-70a7-4618-9a9c-4690f7d71918",
   "metadata": {},
   "source": [
    "## Loading the library"
   ]
  },
  {
   "cell_type": "code",
   "execution_count": 3,
   "id": "8728f608-c237-4dfa-ba8a-0ccabdc40ae4",
   "metadata": {},
   "outputs": [],
   "source": [
    "data = pd.read_csv(\"Simple linear regression.csv\")"
   ]
  },
  {
   "cell_type": "code",
   "execution_count": 4,
   "id": "2d1ef07f-7b8a-4822-8b33-538d510f9825",
   "metadata": {},
   "outputs": [
    {
     "data": {
      "text/html": [
       "<div>\n",
       "<style scoped>\n",
       "    .dataframe tbody tr th:only-of-type {\n",
       "        vertical-align: middle;\n",
       "    }\n",
       "\n",
       "    .dataframe tbody tr th {\n",
       "        vertical-align: top;\n",
       "    }\n",
       "\n",
       "    .dataframe thead th {\n",
       "        text-align: right;\n",
       "    }\n",
       "</style>\n",
       "<table border=\"1\" class=\"dataframe\">\n",
       "  <thead>\n",
       "    <tr style=\"text-align: right;\">\n",
       "      <th></th>\n",
       "      <th>SAT</th>\n",
       "      <th>GPA</th>\n",
       "    </tr>\n",
       "  </thead>\n",
       "  <tbody>\n",
       "    <tr>\n",
       "      <th>0</th>\n",
       "      <td>1714</td>\n",
       "      <td>2.40</td>\n",
       "    </tr>\n",
       "    <tr>\n",
       "      <th>1</th>\n",
       "      <td>1664</td>\n",
       "      <td>2.52</td>\n",
       "    </tr>\n",
       "    <tr>\n",
       "      <th>2</th>\n",
       "      <td>1760</td>\n",
       "      <td>2.54</td>\n",
       "    </tr>\n",
       "    <tr>\n",
       "      <th>3</th>\n",
       "      <td>1685</td>\n",
       "      <td>2.74</td>\n",
       "    </tr>\n",
       "    <tr>\n",
       "      <th>4</th>\n",
       "      <td>1693</td>\n",
       "      <td>2.83</td>\n",
       "    </tr>\n",
       "    <tr>\n",
       "      <th>...</th>\n",
       "      <td>...</td>\n",
       "      <td>...</td>\n",
       "    </tr>\n",
       "    <tr>\n",
       "      <th>79</th>\n",
       "      <td>1936</td>\n",
       "      <td>3.71</td>\n",
       "    </tr>\n",
       "    <tr>\n",
       "      <th>80</th>\n",
       "      <td>1810</td>\n",
       "      <td>3.71</td>\n",
       "    </tr>\n",
       "    <tr>\n",
       "      <th>81</th>\n",
       "      <td>1987</td>\n",
       "      <td>3.73</td>\n",
       "    </tr>\n",
       "    <tr>\n",
       "      <th>82</th>\n",
       "      <td>1962</td>\n",
       "      <td>3.76</td>\n",
       "    </tr>\n",
       "    <tr>\n",
       "      <th>83</th>\n",
       "      <td>2050</td>\n",
       "      <td>3.81</td>\n",
       "    </tr>\n",
       "  </tbody>\n",
       "</table>\n",
       "<p>84 rows × 2 columns</p>\n",
       "</div>"
      ],
      "text/plain": [
       "     SAT   GPA\n",
       "0   1714  2.40\n",
       "1   1664  2.52\n",
       "2   1760  2.54\n",
       "3   1685  2.74\n",
       "4   1693  2.83\n",
       "..   ...   ...\n",
       "79  1936  3.71\n",
       "80  1810  3.71\n",
       "81  1987  3.73\n",
       "82  1962  3.76\n",
       "83  2050  3.81\n",
       "\n",
       "[84 rows x 2 columns]"
      ]
     },
     "execution_count": 4,
     "metadata": {},
     "output_type": "execute_result"
    }
   ],
   "source": [
    "data"
   ]
  },
  {
   "cell_type": "markdown",
   "id": "11c9e5a1-ae80-4fac-a93e-88dcdb5096ca",
   "metadata": {},
   "source": [
    "### Create the regression"
   ]
  },
  {
   "cell_type": "code",
   "execution_count": 14,
   "id": "98f45858-fb6c-4e82-adf4-af472c384dea",
   "metadata": {},
   "outputs": [
    {
     "data": {
      "text/html": [
       "<div>\n",
       "<style scoped>\n",
       "    .dataframe tbody tr th:only-of-type {\n",
       "        vertical-align: middle;\n",
       "    }\n",
       "\n",
       "    .dataframe tbody tr th {\n",
       "        vertical-align: top;\n",
       "    }\n",
       "\n",
       "    .dataframe thead th {\n",
       "        text-align: right;\n",
       "    }\n",
       "</style>\n",
       "<table border=\"1\" class=\"dataframe\">\n",
       "  <thead>\n",
       "    <tr style=\"text-align: right;\">\n",
       "      <th></th>\n",
       "      <th>SAT</th>\n",
       "      <th>GPA</th>\n",
       "    </tr>\n",
       "  </thead>\n",
       "  <tbody>\n",
       "    <tr>\n",
       "      <th>count</th>\n",
       "      <td>84.000000</td>\n",
       "      <td>84.000000</td>\n",
       "    </tr>\n",
       "    <tr>\n",
       "      <th>mean</th>\n",
       "      <td>1845.273810</td>\n",
       "      <td>3.330238</td>\n",
       "    </tr>\n",
       "    <tr>\n",
       "      <th>std</th>\n",
       "      <td>104.530661</td>\n",
       "      <td>0.271617</td>\n",
       "    </tr>\n",
       "    <tr>\n",
       "      <th>min</th>\n",
       "      <td>1634.000000</td>\n",
       "      <td>2.400000</td>\n",
       "    </tr>\n",
       "    <tr>\n",
       "      <th>25%</th>\n",
       "      <td>1772.000000</td>\n",
       "      <td>3.190000</td>\n",
       "    </tr>\n",
       "    <tr>\n",
       "      <th>50%</th>\n",
       "      <td>1846.000000</td>\n",
       "      <td>3.380000</td>\n",
       "    </tr>\n",
       "    <tr>\n",
       "      <th>75%</th>\n",
       "      <td>1934.000000</td>\n",
       "      <td>3.502500</td>\n",
       "    </tr>\n",
       "    <tr>\n",
       "      <th>max</th>\n",
       "      <td>2050.000000</td>\n",
       "      <td>3.810000</td>\n",
       "    </tr>\n",
       "  </tbody>\n",
       "</table>\n",
       "</div>"
      ],
      "text/plain": [
       "               SAT        GPA\n",
       "count    84.000000  84.000000\n",
       "mean   1845.273810   3.330238\n",
       "std     104.530661   0.271617\n",
       "min    1634.000000   2.400000\n",
       "25%    1772.000000   3.190000\n",
       "50%    1846.000000   3.380000\n",
       "75%    1934.000000   3.502500\n",
       "max    2050.000000   3.810000"
      ]
     },
     "execution_count": 14,
     "metadata": {},
     "output_type": "execute_result"
    }
   ],
   "source": [
    "data.describe()"
   ]
  },
  {
   "cell_type": "code",
   "execution_count": 15,
   "id": "003e33fd-eaef-42f6-8c15-c45244c2b3e8",
   "metadata": {},
   "outputs": [
    {
     "name": "stderr",
     "output_type": "stream",
     "text": [
      "Traceback (most recent call last):\n",
      "  File \"C:\\Users\\Sumit\\anaconda3\\envs\\sapioenv\\Scripts\\pip-script.py\", line 6, in <module>\n",
      "    from pip._internal.cli.main import main\n",
      "  File \"C:\\Users\\Sumit\\anaconda3\\envs\\sapioenv\\lib\\site-packages\\pip\\_internal\\cli\\main.py\", line 8, in <module>\n",
      "    from pip._internal.cli.autocompletion import autocomplete\n",
      "  File \"C:\\Users\\Sumit\\anaconda3\\envs\\sapioenv\\lib\\site-packages\\pip\\_internal\\cli\\autocompletion.py\", line 9, in <module>\n",
      "    from pip._internal.cli.main_parser import create_main_parser\n",
      "  File \"C:\\Users\\Sumit\\anaconda3\\envs\\sapioenv\\lib\\site-packages\\pip\\_internal\\cli\\main_parser.py\", line 7, in <module>\n",
      "    from pip._internal.cli import cmdoptions\n",
      "  File \"C:\\Users\\Sumit\\anaconda3\\envs\\sapioenv\\lib\\site-packages\\pip\\_internal\\cli\\cmdoptions.py\", line 22, in <module>\n",
      "    from pip._internal.cli.progress_bars import BAR_TYPES\n",
      "  File \"C:\\Users\\Sumit\\anaconda3\\envs\\sapioenv\\lib\\site-packages\\pip\\_internal\\cli\\progress_bars.py\", line 9, in <module>\n",
      "    from pip._internal.utils.logging import get_indentation\n",
      "  File \"C:\\Users\\Sumit\\anaconda3\\envs\\sapioenv\\lib\\site-packages\\pip\\_internal\\utils\\logging.py\", line 14, in <module>\n",
      "    from pip._internal.utils.misc import ensure_dir\n",
      "  File \"C:\\Users\\Sumit\\anaconda3\\envs\\sapioenv\\lib\\site-packages\\pip\\_internal\\utils\\misc.py\", line 29, in <module>\n",
      "    from pip._internal.locations import get_major_minor_version, site_packages, user_site\n",
      "  File \"C:\\Users\\Sumit\\anaconda3\\envs\\sapioenv\\lib\\site-packages\\pip\\_internal\\locations\\__init__.py\", line 14, in <module>\n",
      "    from . import _distutils, _sysconfig\n",
      "  File \"C:\\Users\\Sumit\\anaconda3\\envs\\sapioenv\\lib\\site-packages\\pip\\_internal\\locations\\_sysconfig.py\", line 8, in <module>\n",
      "    from pip._internal.exceptions import InvalidSchemeCombination, UserInstallationInvalid\n",
      "ImportError: cannot import name 'InvalidSchemeCombination' from 'pip._internal.exceptions' (C:\\Users\\Sumit\\anaconda3\\envs\\sapioenv\\lib\\site-packages\\pip\\_internal\\exceptions.py)\n"
     ]
    }
   ],
   "source": [
    "! pip install kite\n"
   ]
  },
  {
   "cell_type": "code",
   "execution_count": 17,
   "id": "60af35d2-4781-46c6-affd-6238d32f7127",
   "metadata": {},
   "outputs": [
    {
     "name": "stderr",
     "output_type": "stream",
     "text": [
      "Traceback (most recent call last):\n",
      "  File \"C:\\Users\\Sumit\\anaconda3\\envs\\sapioenv\\Scripts\\pip-script.py\", line 6, in <module>\n",
      "    from pip._internal.cli.main import main\n",
      "  File \"C:\\Users\\Sumit\\anaconda3\\envs\\sapioenv\\lib\\site-packages\\pip\\_internal\\cli\\main.py\", line 8, in <module>\n",
      "    from pip._internal.cli.autocompletion import autocomplete\n",
      "  File \"C:\\Users\\Sumit\\anaconda3\\envs\\sapioenv\\lib\\site-packages\\pip\\_internal\\cli\\autocompletion.py\", line 9, in <module>\n",
      "    from pip._internal.cli.main_parser import create_main_parser\n",
      "  File \"C:\\Users\\Sumit\\anaconda3\\envs\\sapioenv\\lib\\site-packages\\pip\\_internal\\cli\\main_parser.py\", line 7, in <module>\n",
      "    from pip._internal.cli import cmdoptions\n",
      "  File \"C:\\Users\\Sumit\\anaconda3\\envs\\sapioenv\\lib\\site-packages\\pip\\_internal\\cli\\cmdoptions.py\", line 22, in <module>\n",
      "    from pip._internal.cli.progress_bars import BAR_TYPES\n",
      "  File \"C:\\Users\\Sumit\\anaconda3\\envs\\sapioenv\\lib\\site-packages\\pip\\_internal\\cli\\progress_bars.py\", line 9, in <module>\n",
      "    from pip._internal.utils.logging import get_indentation\n",
      "  File \"C:\\Users\\Sumit\\anaconda3\\envs\\sapioenv\\lib\\site-packages\\pip\\_internal\\utils\\logging.py\", line 14, in <module>\n",
      "    from pip._internal.utils.misc import ensure_dir\n",
      "  File \"C:\\Users\\Sumit\\anaconda3\\envs\\sapioenv\\lib\\site-packages\\pip\\_internal\\utils\\misc.py\", line 29, in <module>\n",
      "    from pip._internal.locations import get_major_minor_version, site_packages, user_site\n",
      "  File \"C:\\Users\\Sumit\\anaconda3\\envs\\sapioenv\\lib\\site-packages\\pip\\_internal\\locations\\__init__.py\", line 14, in <module>\n",
      "    from . import _distutils, _sysconfig\n",
      "  File \"C:\\Users\\Sumit\\anaconda3\\envs\\sapioenv\\lib\\site-packages\\pip\\_internal\\locations\\_sysconfig.py\", line 8, in <module>\n",
      "    from pip._internal.exceptions import InvalidSchemeCombination, UserInstallationInvalid\n",
      "ImportError: cannot import name 'InvalidSchemeCombination' from 'pip._internal.exceptions' (C:\\Users\\Sumit\\anaconda3\\envs\\sapioenv\\lib\\site-packages\\pip\\_internal\\exceptions.py)\n"
     ]
    }
   ],
   "source": [
    "!pip install --upgrade pip"
   ]
  },
  {
   "cell_type": "code",
   "execution_count": null,
   "id": "116907c8-5d60-4cf1-9ace-708bddbec23a",
   "metadata": {},
   "outputs": [],
   "source": []
  }
 ],
 "metadata": {
  "kernelspec": {
   "display_name": "Python [conda env:sapioenv] *",
   "language": "python",
   "name": "conda-env-sapioenv-py"
  },
  "language_info": {
   "codemirror_mode": {
    "name": "ipython",
    "version": 3
   },
   "file_extension": ".py",
   "mimetype": "text/x-python",
   "name": "python",
   "nbconvert_exporter": "python",
   "pygments_lexer": "ipython3",
   "version": "3.7.11"
  }
 },
 "nbformat": 4,
 "nbformat_minor": 5
}
